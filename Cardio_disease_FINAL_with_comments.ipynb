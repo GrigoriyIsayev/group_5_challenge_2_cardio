{
 "cells": [
  {
   "cell_type": "markdown",
   "id": "c735cd89",
   "metadata": {},
   "source": [
    "# Cardiovascular Disease Data Analysis Notebook\n",
    "This notebook analyzes cardiovascular disease data, including data cleaning, visualization, and prediction using machine learning models."
   ]
  },
  {
   "cell_type": "code",
   "execution_count": null,
   "id": "c5ade6ed",
   "metadata": {},
   "outputs": [],
   "source": [
    "# Cell 1: Installing necessary packages (commented out)\n",
    "#pip install matplotlib seaborn\n",
    "#!pip install scikit-learn"
   ]
  },
  {
   "cell_type": "code",
   "execution_count": null,
   "id": "5fd1d30f",
   "metadata": {},
   "outputs": [],
   "source": [
    "# Cell 2: Importing necessary libraries for data manipulation, visualization, and machine learning\n",
    "import pandas as pd\n",
    "import numpy as np\n",
    "import re\n",
    "import matplotlib.pyplot as plt\n",
    "import seaborn as sns\n",
    "from sklearn.preprocessing import StandardScaler\n",
    "from sklearn.decomposition import PCA\n",
    "from sklearn.linear_model import LinearRegression\n",
    "from sklearn.metrics import mean_squared_error, r2_score\n",
    "from sklearn.model_selection import train_test_split\n",
    "from sklearn.ensemble import RandomForestRegressor"
   ]
  },
  {
   "cell_type": "code",
   "execution_count": null,
   "id": "5949737c",
   "metadata": {},
   "outputs": [],
   "source": [
    "# Cell 3: Defining the file name for the dataset\n",
    "file_name = 'Disease_Data.csv'"
   ]
  },
  {
   "cell_type": "code",
   "execution_count": null,
   "id": "96fc4d64",
   "metadata": {},
   "outputs": [],
   "source": [
    "# Cell 4: Reading the dataset into a DataFrame and displaying the first 20 rows\n",
    "df = pd.read_csv(file_name, sep=';')\n",
    "\n",
    "pd.set_option('display.max_columns', None)\n",
    "df.head(20)"
   ]
  },
  {
   "cell_type": "code",
   "execution_count": null,
   "id": "ef67ca60",
   "metadata": {},
   "outputs": [],
   "source": [
    "# Cell 5: Displaying unique values in the 'Data_Value_Unit' column\n",
    "df.Data_Value_Unit.unique()"
   ]
  },
  {
   "cell_type": "code",
   "execution_count": null,
   "id": "e238740a",
   "metadata": {},
   "outputs": [],
   "source": [
    "# Cell 6: Displaying unique values in the 'Break_Out' column\n",
    "df.Break_Out.unique()"
   ]
  },
  {
   "cell_type": "code",
   "execution_count": null,
   "id": "a46434a8",
   "metadata": {},
   "outputs": [],
   "source": [
    "# Cell 7: Displaying unique values in the 'BreakOutId' column\n",
    "df.BreakOutId.unique()"
   ]
  },
  {
   "cell_type": "code",
   "execution_count": null,
   "id": "2f124e88",
   "metadata": {},
   "outputs": [],
   "source": [
    "# Cell 8: Counting unique values in the 'Break_Out_Category' column\n",
    "df.Break_Out_Category.value_counts()"
   ]
  },
  {
   "cell_type": "code",
   "execution_count": null,
   "id": "ea9c3e82",
   "metadata": {},
   "outputs": [],
   "source": [
    "# Cell 9: Counting occurrences of each year in the 'YearStart' column\n",
    "df.YearStart.value_counts()"
   ]
  },
  {
   "cell_type": "code",
   "execution_count": null,
   "id": "d79a2b36",
   "metadata": {},
   "outputs": [],
   "source": [
    "# Cell 10: Counting missing values in each column\n",
    "df.isna().sum()"
   ]
  },
  {
   "cell_type": "code",
   "execution_count": null,
   "id": "a816da06",
   "metadata": {},
   "outputs": [],
   "source": [
    "# Cell 11: Displaying data types of each column\n",
    "df.dtypes"
   ]
  },
  {
   "cell_type": "code",
   "execution_count": null,
   "id": "05ca7fa6",
   "metadata": {},
   "outputs": [],
   "source": [
    "# Cell 12: Dropping rows where 'Data_Value' or 'Data_Value_Alt' columns have empty strings, and removing rows with NaN values in 'Data_Value' column\n",
    "df = df.drop(df[df['Data_Value'] == ''].index)\n",
    "df = df.drop(df[df['Data_Value_Alt'] == ''].index)\n",
    "df.dropna(subset=['Data_Value'], inplace=True)"
   ]
  },
  {
   "cell_type": "code",
   "execution_count": null,
   "id": "4033a05b",
   "metadata": {},
   "outputs": [],
   "source": [
    "# Cell 13: Removing commas from 'Data_Value' and 'Data_Value_Alt' columns and converting them to float data type\n",
    "df['Data_Value'] = df['Data_Value'].str.replace(',', '')\n",
    "df['Data_Value_Alt'] = df['Data_Value_Alt'].str.replace(',', '')\n",
    "\n",
    "df['Data_Value'] = df['Data_Value'].astype(float)\n",
    "df['Data_Value_Alt'] = df['Data_Value_Alt'].astype(float)"
   ]
  },
  {
   "cell_type": "code",
   "execution_count": null,
   "id": "945c6b4a",
   "metadata": {},
   "outputs": [],
   "source": [
    "# Cell 14: Displaying the shape of the DataFrame (number of rows and columns)\n",
    "df.shape"
   ]
  },
  {
   "cell_type": "code",
   "execution_count": null,
   "id": "c8097483",
   "metadata": {},
   "outputs": [],
   "source": [
    "# Cell 15: Converting column names to a list and displaying the list\n",
    "columns = df.columns.to_list()\n",
    "columns"
   ]
  },
  {
   "cell_type": "code",
   "execution_count": null,
   "id": "1d0346ee",
   "metadata": {},
   "outputs": [],
   "source": [
    "# Cell 16: Counting missing values in each column again\n",
    "df.isna().sum()"
   ]
  },
  {
   "cell_type": "code",
   "execution_count": null,
   "id": "1a354741",
   "metadata": {},
   "outputs": [],
   "source": [
    "# Cell 17: Removing duplicate rows from the DataFrame\n",
    "df.drop_duplicates()"
   ]
  },
  {
   "cell_type": "code",
   "execution_count": null,
   "id": "3c70ff6c",
   "metadata": {},
   "outputs": [],
   "source": [
    "# Cell 18: Displaying information about the DataFrame (including number of non-null entries and data types)\n",
    "df.info()"
   ]
  },
  {
   "cell_type": "code",
   "execution_count": null,
   "id": "6c301d94",
   "metadata": {},
   "outputs": [],
   "source": [
    "# Cell 19: Displaying column names of the DataFrame\n",
    "df.columns"
   ]
  },
  {
   "cell_type": "code",
   "execution_count": null,
   "id": "62b2830a",
   "metadata": {},
   "outputs": [],
   "source": [
    "# Cell 20: Saving a backup of the original dataset to a CSV file\n",
    "df.to_csv('original_dataset_backup.csv', index=False)"
   ]
  },
  {
   "cell_type": "code",
   "execution_count": null,
   "id": "d7842fef",
   "metadata": {},
   "outputs": [],
   "source": [
    "# Cell 21: Defining a list of columns to drop from the DataFrame\n",
    "columns_to_drop = ['RowId', 'LocationDesc', 'DataSource', 'PriorityArea1', 'PriorityArea2', 'PriorityArea3', 'PriorityArea4', 'Question', 'Data_Value_Type', 'Data_Value_Unit', 'Data_Value_Alt', 'Data_Value_Footnote_Symbol', 'Data_Value_Footnote', 'Low_Confidence_Limit', 'High_Confidence_Limit', 'ClassId', 'TopicId', 'QuestionId', 'BreakOutCategoryId', 'BreakOutId', 'Geolocation', 'LocationId']"
   ]
  },
  {
   "cell_type": "code",
   "execution_count": null,
   "id": "801b934a",
   "metadata": {},
   "outputs": [],
   "source": [
    "# Cell 22: Dropping the specified columns from the DataFrame\n",
    "df = df.drop(columns=columns_to_drop)"
   ]
  },
  {
   "cell_type": "code",
   "execution_count": null,
   "id": "b94ccd51",
   "metadata": {},
   "outputs": [],
   "source": [
    "# Cell 23: Displaying column names of the modified DataFrame\n",
    "df.columns"
   ]
  },
  {
   "cell_type": "code",
   "execution_count": null,
   "id": "d467a311",
   "metadata": {},
   "outputs": [],
   "source": [
    "# Cell 24 (truncated): Defining a function to analyze and predict data using Linear Regression, and displaying accuracy results for different demographic categories\n",
    "accuracy_gender_linear = analyze_and_predict_linear(gender_filtered_df, 'Major Cardiovascular Disease', 'Break_Out', 'Data_Value', 'Gender')\n",
    "print(accuracy_gender_linear)\n",
    "\n",
    "accuracy_age_linear = analyze_and_predict_linear(age_filtered_df, 'Major Cardiovascular Disease', 'Break_Out', 'Data_Value', 'Age')\n",
    "print(accuracy_age_linear)\n",
    "\n",
    "accuracy_race_linear = analyze_and_predict_linear(race_filtered_df, 'Major Cardiovascular Disease', 'Break_Out', 'Data_Value', 'Race')\n",
    "print(accuracy_race_linear)"
   ]
  },
  {
   "cell_type": "code",
   "execution_count": null,
   "id": "ac0dcf52",
   "metadata": {},
   "outputs": [],
   "source": [
    "# Cell 25: Displaying the first few rows of the filtered DataFrame\n",
    "overall_filtered_df.head()"
   ]
  },
  {
   "cell_type": "code",
   "execution_count": null,
   "id": "2f678165",
   "metadata": {},
   "outputs": [],
   "source": [
    "# Cell 26: Counting occurrences of each year in the filtered DataFrame and displaying the result\n",
    "value_counts = filtered_df['YearStart'].value_counts()\n",
    "print(value_counts)"
   ]
  },
  {
   "cell_type": "code",
   "execution_count": null,
   "id": "32d3d990",
   "metadata": {},
   "outputs": [],
   "source": [
    "# Cell 27: Separating the dataset into blocks of columns for each state and year\n",
    "# Number of columns per state per year\n",
    "columns_per_state_year = 20\n",
    "\n",
    "# Total number of states\n",
    "num_states = 50\n",
    "\n",
    "# Total number of years\n",
    "num_years = 22\n",
    "\n",
    "# Separating the dataset by blocks of columns for each state and year\n",
    "blocks = []\n",
    "for state_index in range(num_states):\n",
    "    for year_index in range(num_years):\n",
    "        start_col = (state_index * num_years * columns_per_state_year) + (year_index * columns_per_state_year)\n",
    "        end_col = start_col + columns_per_state_year\n",
    "        block = df.iloc[:, start_col:end_col]\n",
    "        blocks.append(block)"
   ]
  },
  {
   "cell_type": "code",
   "execution_count": null,
   "id": "6d3d7e33",
   "metadata": {},
   "outputs": [],
   "source": [
    "# Cell 28: Plotting histograms for numerical columns in the age-filtered DataFrame\n",
    "for column in age_filtered_df.select_dtypes(include='number').columns:\n",
    "    plt.figure()\n",
    "    plt.hist(age_filtered_df[column], bins=30)\n",
    "    plt.xlabel(column)\n",
    "    plt.ylabel('Frequency')\n",
    "    plt.title(f'Histogram of {column}')\n",
    "    plt.show()"
   ]
  }
 ],
 "metadata": {
  "language_info": {
   "name": "python"
  }
 },
 "nbformat": 4,
 "nbformat_minor": 5
}
