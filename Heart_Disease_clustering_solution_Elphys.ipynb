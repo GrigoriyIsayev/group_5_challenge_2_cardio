{
 "cells": [
  {
   "cell_type": "code",
   "execution_count": 59,
   "metadata": {},
   "outputs": [],
   "source": [
    "# Import the required libraries and dependencies\n",
    "import pandas as pd\n",
    "from sklearn.cluster import KMeans\n",
    "from sklearn.decomposition import PCA\n",
    "from sklearn.preprocessing import StandardScaler"
   ]
  },
  {
   "cell_type": "markdown",
   "metadata": {},
   "source": [
    "### Step 1:  Read in the `stock_data.csv` file and create a DataFrame."
   ]
  },
  {
   "cell_type": "code",
   "execution_count": 62,
   "metadata": {},
   "outputs": [
    {
     "data": {
      "text/html": [
       "<div>\n",
       "<style scoped>\n",
       "    .dataframe tbody tr th:only-of-type {\n",
       "        vertical-align: middle;\n",
       "    }\n",
       "\n",
       "    .dataframe tbody tr th {\n",
       "        vertical-align: top;\n",
       "    }\n",
       "\n",
       "    .dataframe thead th {\n",
       "        text-align: right;\n",
       "    }\n",
       "</style>\n",
       "<table border=\"1\" class=\"dataframe\">\n",
       "  <thead>\n",
       "    <tr style=\"text-align: right;\">\n",
       "      <th></th>\n",
       "      <th>age</th>\n",
       "      <th>anaemia</th>\n",
       "      <th>creatinine_phosphokinase</th>\n",
       "      <th>diabetes</th>\n",
       "      <th>ejection_fraction</th>\n",
       "      <th>high_blood_pressure</th>\n",
       "      <th>platelets</th>\n",
       "      <th>serum_creatinine</th>\n",
       "      <th>serum_sodium</th>\n",
       "      <th>sex</th>\n",
       "      <th>smoking</th>\n",
       "      <th>time</th>\n",
       "      <th>DEATH_EVENT</th>\n",
       "    </tr>\n",
       "  </thead>\n",
       "  <tbody>\n",
       "    <tr>\n",
       "      <th>0</th>\n",
       "      <td>55.0</td>\n",
       "      <td>0</td>\n",
       "      <td>748</td>\n",
       "      <td>0</td>\n",
       "      <td>45</td>\n",
       "      <td>0</td>\n",
       "      <td>263358.03</td>\n",
       "      <td>1.3</td>\n",
       "      <td>137</td>\n",
       "      <td>1</td>\n",
       "      <td>1</td>\n",
       "      <td>88</td>\n",
       "      <td>0</td>\n",
       "    </tr>\n",
       "    <tr>\n",
       "      <th>1</th>\n",
       "      <td>65.0</td>\n",
       "      <td>0</td>\n",
       "      <td>56</td>\n",
       "      <td>0</td>\n",
       "      <td>25</td>\n",
       "      <td>0</td>\n",
       "      <td>305000.00</td>\n",
       "      <td>5.0</td>\n",
       "      <td>130</td>\n",
       "      <td>1</td>\n",
       "      <td>0</td>\n",
       "      <td>207</td>\n",
       "      <td>0</td>\n",
       "    </tr>\n",
       "    <tr>\n",
       "      <th>2</th>\n",
       "      <td>45.0</td>\n",
       "      <td>0</td>\n",
       "      <td>582</td>\n",
       "      <td>1</td>\n",
       "      <td>38</td>\n",
       "      <td>0</td>\n",
       "      <td>319000.00</td>\n",
       "      <td>0.9</td>\n",
       "      <td>140</td>\n",
       "      <td>0</td>\n",
       "      <td>0</td>\n",
       "      <td>244</td>\n",
       "      <td>0</td>\n",
       "    </tr>\n",
       "    <tr>\n",
       "      <th>3</th>\n",
       "      <td>60.0</td>\n",
       "      <td>1</td>\n",
       "      <td>754</td>\n",
       "      <td>1</td>\n",
       "      <td>40</td>\n",
       "      <td>1</td>\n",
       "      <td>328000.00</td>\n",
       "      <td>1.2</td>\n",
       "      <td>126</td>\n",
       "      <td>1</td>\n",
       "      <td>0</td>\n",
       "      <td>90</td>\n",
       "      <td>0</td>\n",
       "    </tr>\n",
       "    <tr>\n",
       "      <th>4</th>\n",
       "      <td>95.0</td>\n",
       "      <td>1</td>\n",
       "      <td>582</td>\n",
       "      <td>0</td>\n",
       "      <td>30</td>\n",
       "      <td>0</td>\n",
       "      <td>461000.00</td>\n",
       "      <td>2.0</td>\n",
       "      <td>132</td>\n",
       "      <td>1</td>\n",
       "      <td>0</td>\n",
       "      <td>50</td>\n",
       "      <td>1</td>\n",
       "    </tr>\n",
       "  </tbody>\n",
       "</table>\n",
       "</div>"
      ],
      "text/plain": [
       "    age  anaemia  creatinine_phosphokinase  diabetes  ejection_fraction  \\\n",
       "0  55.0        0                       748         0                 45   \n",
       "1  65.0        0                        56         0                 25   \n",
       "2  45.0        0                       582         1                 38   \n",
       "3  60.0        1                       754         1                 40   \n",
       "4  95.0        1                       582         0                 30   \n",
       "\n",
       "   high_blood_pressure  platelets  serum_creatinine  serum_sodium  sex  \\\n",
       "0                    0  263358.03               1.3           137    1   \n",
       "1                    0  305000.00               5.0           130    1   \n",
       "2                    0  319000.00               0.9           140    0   \n",
       "3                    1  328000.00               1.2           126    1   \n",
       "4                    0  461000.00               2.0           132    1   \n",
       "\n",
       "   smoking  time  DEATH_EVENT  \n",
       "0        1    88            0  \n",
       "1        0   207            0  \n",
       "2        0   244            0  \n",
       "3        0    90            0  \n",
       "4        0    50            1  "
      ]
     },
     "execution_count": 62,
     "metadata": {},
     "output_type": "execute_result"
    }
   ],
   "source": [
    "# Read the CSV file into a Pandas DataFrame\n",
    "df = pd.read_csv(\"../Proj_2/heart_failure_clinical_records.csv\")\n",
    "\n",
    "# Review the DataFrame\n",
    "df.head(5)"
   ]
  },
  {
   "cell_type": "code",
   "execution_count": 64,
   "metadata": {},
   "outputs": [
    {
     "data": {
      "text/plain": [
       "(5000, 13)"
      ]
     },
     "execution_count": 64,
     "metadata": {},
     "output_type": "execute_result"
    }
   ],
   "source": [
    "# Get the shape of the DataFrame\n",
    "df.shape"
   ]
  },
  {
   "cell_type": "code",
   "execution_count": 66,
   "metadata": {},
   "outputs": [
    {
     "data": {
      "text/plain": [
       "Index(['age', 'anaemia', 'creatinine_phosphokinase', 'diabetes',\n",
       "       'ejection_fraction', 'high_blood_pressure', 'platelets',\n",
       "       'serum_creatinine', 'serum_sodium', 'sex', 'smoking', 'time',\n",
       "       'DEATH_EVENT'],\n",
       "      dtype='object')"
      ]
     },
     "execution_count": 66,
     "metadata": {},
     "output_type": "execute_result"
    }
   ],
   "source": [
    "df.columns"
   ]
  },
  {
   "cell_type": "code",
   "execution_count": 68,
   "metadata": {},
   "outputs": [
    {
     "name": "stdout",
     "output_type": "stream",
     "text": [
      "<class 'pandas.core.frame.DataFrame'>\n",
      "RangeIndex: 5000 entries, 0 to 4999\n",
      "Data columns (total 13 columns):\n",
      " #   Column                    Non-Null Count  Dtype  \n",
      "---  ------                    --------------  -----  \n",
      " 0   age                       5000 non-null   float64\n",
      " 1   anaemia                   5000 non-null   int64  \n",
      " 2   creatinine_phosphokinase  5000 non-null   int64  \n",
      " 3   diabetes                  5000 non-null   int64  \n",
      " 4   ejection_fraction         5000 non-null   int64  \n",
      " 5   high_blood_pressure       5000 non-null   int64  \n",
      " 6   platelets                 5000 non-null   float64\n",
      " 7   serum_creatinine          5000 non-null   float64\n",
      " 8   serum_sodium              5000 non-null   int64  \n",
      " 9   sex                       5000 non-null   int64  \n",
      " 10  smoking                   5000 non-null   int64  \n",
      " 11  time                      5000 non-null   int64  \n",
      " 12  DEATH_EVENT               5000 non-null   int64  \n",
      "dtypes: float64(3), int64(10)\n",
      "memory usage: 507.9 KB\n"
     ]
    }
   ],
   "source": [
    "# Get the information on the DataFrame\n",
    "df.info()"
   ]
  },
  {
   "cell_type": "markdown",
   "metadata": {},
   "source": [
    "### Scale the DataFrame and create a new DataFrame that contains the scaled data. "
   ]
  },
  {
   "cell_type": "code",
   "execution_count": 96,
   "metadata": {},
   "outputs": [],
   "source": [
    "# Use the standard scaler, fit_transform to scale the numerical columns.\n",
    "scale_columns = ['age', 'anaemia', 'creatinine_phosphokinase', 'diabetes',\n",
    "       'ejection_fraction', 'high_blood_pressure', 'platelets',\n",
    "       'serum_creatinine', 'serum_sodium', 'sex', 'smoking', 'time',\"DEATH_EVENT\"]\n",
    "df_data_scaled = StandardScaler().fit_transform(df[scale_columns])"
   ]
  },
  {
   "cell_type": "code",
   "execution_count": 104,
   "metadata": {},
   "outputs": [
    {
     "data": {
      "text/html": [
       "<div>\n",
       "<style scoped>\n",
       "    .dataframe tbody tr th:only-of-type {\n",
       "        vertical-align: middle;\n",
       "    }\n",
       "\n",
       "    .dataframe tbody tr th {\n",
       "        vertical-align: top;\n",
       "    }\n",
       "\n",
       "    .dataframe thead th {\n",
       "        text-align: right;\n",
       "    }\n",
       "</style>\n",
       "<table border=\"1\" class=\"dataframe\">\n",
       "  <thead>\n",
       "    <tr style=\"text-align: right;\">\n",
       "      <th></th>\n",
       "      <th>age</th>\n",
       "      <th>anaemia</th>\n",
       "      <th>creatinine_phosphokinase</th>\n",
       "      <th>diabetes</th>\n",
       "      <th>ejection_fraction</th>\n",
       "      <th>high_blood_pressure</th>\n",
       "      <th>platelets</th>\n",
       "      <th>serum_creatinine</th>\n",
       "      <th>serum_sodium</th>\n",
       "      <th>sex</th>\n",
       "      <th>smoking</th>\n",
       "      <th>time</th>\n",
       "      <th>DEATH_EVENT</th>\n",
       "    </tr>\n",
       "  </thead>\n",
       "  <tbody>\n",
       "    <tr>\n",
       "      <th>0</th>\n",
       "      <td>-0.452181</td>\n",
       "      <td>-0.950046</td>\n",
       "      <td>0.165097</td>\n",
       "      <td>-0.885327</td>\n",
       "      <td>0.631022</td>\n",
       "      <td>-0.757831</td>\n",
       "      <td>-0.017526</td>\n",
       "      <td>-0.068446</td>\n",
       "      <td>0.042968</td>\n",
       "      <td>0.740909</td>\n",
       "      <td>1.485659</td>\n",
       "      <td>-0.551989</td>\n",
       "      <td>-0.675926</td>\n",
       "    </tr>\n",
       "    <tr>\n",
       "      <th>1</th>\n",
       "      <td>0.402807</td>\n",
       "      <td>-0.950046</td>\n",
       "      <td>-0.543458</td>\n",
       "      <td>-0.885327</td>\n",
       "      <td>-1.106039</td>\n",
       "      <td>-0.757831</td>\n",
       "      <td>0.407436</td>\n",
       "      <td>3.596194</td>\n",
       "      <td>-1.525206</td>\n",
       "      <td>0.740909</td>\n",
       "      <td>-0.673102</td>\n",
       "      <td>0.987105</td>\n",
       "      <td>-0.675926</td>\n",
       "    </tr>\n",
       "    <tr>\n",
       "      <th>2</th>\n",
       "      <td>-1.307168</td>\n",
       "      <td>-0.950046</td>\n",
       "      <td>-0.004874</td>\n",
       "      <td>1.129527</td>\n",
       "      <td>0.023051</td>\n",
       "      <td>-0.757831</td>\n",
       "      <td>0.550307</td>\n",
       "      <td>-0.464623</td>\n",
       "      <td>0.715043</td>\n",
       "      <td>-1.349693</td>\n",
       "      <td>-0.673102</td>\n",
       "      <td>1.465647</td>\n",
       "      <td>-0.675926</td>\n",
       "    </tr>\n",
       "  </tbody>\n",
       "</table>\n",
       "</div>"
      ],
      "text/plain": [
       "        age   anaemia  creatinine_phosphokinase  diabetes  ejection_fraction  \\\n",
       "0 -0.452181 -0.950046                  0.165097 -0.885327           0.631022   \n",
       "1  0.402807 -0.950046                 -0.543458 -0.885327          -1.106039   \n",
       "2 -1.307168 -0.950046                 -0.004874  1.129527           0.023051   \n",
       "\n",
       "   high_blood_pressure  platelets  serum_creatinine  serum_sodium       sex  \\\n",
       "0            -0.757831  -0.017526         -0.068446      0.042968  0.740909   \n",
       "1            -0.757831   0.407436          3.596194     -1.525206  0.740909   \n",
       "2            -0.757831   0.550307         -0.464623      0.715043 -1.349693   \n",
       "\n",
       "    smoking      time  DEATH_EVENT  \n",
       "0  1.485659 -0.551989    -0.675926  \n",
       "1 -0.673102  0.987105    -0.675926  \n",
       "2 -0.673102  1.465647    -0.675926  "
      ]
     },
     "execution_count": 104,
     "metadata": {},
     "output_type": "execute_result"
    }
   ],
   "source": [
    "# Create a DataFrame called with the scaled data\n",
    "# The column names should match those referenced in the StandardScaler step\n",
    "df_heartdata_scaled = pd.DataFrame(\n",
    "    df_data_scaled,\n",
    "    columns=scale_columns)\n",
    "df_heartdata_scaled.head(3)"
   ]
  },
  {
   "cell_type": "code",
   "execution_count": 106,
   "metadata": {},
   "outputs": [],
   "source": [
    "# Create a DEATH_EVENT column in the df_heartdata_scaled DataFrame\n",
    "# using the index of the original df DataFrame\n",
    "df_heartdata_scaled[\"index\"] = df.index"
   ]
  },
  {
   "cell_type": "code",
   "execution_count": 108,
   "metadata": {},
   "outputs": [
    {
     "data": {
      "text/html": [
       "<div>\n",
       "<style scoped>\n",
       "    .dataframe tbody tr th:only-of-type {\n",
       "        vertical-align: middle;\n",
       "    }\n",
       "\n",
       "    .dataframe tbody tr th {\n",
       "        vertical-align: top;\n",
       "    }\n",
       "\n",
       "    .dataframe thead th {\n",
       "        text-align: right;\n",
       "    }\n",
       "</style>\n",
       "<table border=\"1\" class=\"dataframe\">\n",
       "  <thead>\n",
       "    <tr style=\"text-align: right;\">\n",
       "      <th></th>\n",
       "      <th>age</th>\n",
       "      <th>anaemia</th>\n",
       "      <th>creatinine_phosphokinase</th>\n",
       "      <th>diabetes</th>\n",
       "      <th>ejection_fraction</th>\n",
       "      <th>high_blood_pressure</th>\n",
       "      <th>platelets</th>\n",
       "      <th>serum_creatinine</th>\n",
       "      <th>serum_sodium</th>\n",
       "      <th>sex</th>\n",
       "      <th>smoking</th>\n",
       "      <th>time</th>\n",
       "      <th>DEATH_EVENT</th>\n",
       "    </tr>\n",
       "    <tr>\n",
       "      <th>index</th>\n",
       "      <th></th>\n",
       "      <th></th>\n",
       "      <th></th>\n",
       "      <th></th>\n",
       "      <th></th>\n",
       "      <th></th>\n",
       "      <th></th>\n",
       "      <th></th>\n",
       "      <th></th>\n",
       "      <th></th>\n",
       "      <th></th>\n",
       "      <th></th>\n",
       "      <th></th>\n",
       "    </tr>\n",
       "  </thead>\n",
       "  <tbody>\n",
       "    <tr>\n",
       "      <th>0</th>\n",
       "      <td>-0.452181</td>\n",
       "      <td>-0.950046</td>\n",
       "      <td>0.165097</td>\n",
       "      <td>-0.885327</td>\n",
       "      <td>0.631022</td>\n",
       "      <td>-0.757831</td>\n",
       "      <td>-0.017526</td>\n",
       "      <td>-0.068446</td>\n",
       "      <td>0.042968</td>\n",
       "      <td>0.740909</td>\n",
       "      <td>1.485659</td>\n",
       "      <td>-0.551989</td>\n",
       "      <td>-0.675926</td>\n",
       "    </tr>\n",
       "    <tr>\n",
       "      <th>1</th>\n",
       "      <td>0.402807</td>\n",
       "      <td>-0.950046</td>\n",
       "      <td>-0.543458</td>\n",
       "      <td>-0.885327</td>\n",
       "      <td>-1.106039</td>\n",
       "      <td>-0.757831</td>\n",
       "      <td>0.407436</td>\n",
       "      <td>3.596194</td>\n",
       "      <td>-1.525206</td>\n",
       "      <td>0.740909</td>\n",
       "      <td>-0.673102</td>\n",
       "      <td>0.987105</td>\n",
       "      <td>-0.675926</td>\n",
       "    </tr>\n",
       "    <tr>\n",
       "      <th>2</th>\n",
       "      <td>-1.307168</td>\n",
       "      <td>-0.950046</td>\n",
       "      <td>-0.004874</td>\n",
       "      <td>1.129527</td>\n",
       "      <td>0.023051</td>\n",
       "      <td>-0.757831</td>\n",
       "      <td>0.550307</td>\n",
       "      <td>-0.464623</td>\n",
       "      <td>0.715043</td>\n",
       "      <td>-1.349693</td>\n",
       "      <td>-0.673102</td>\n",
       "      <td>1.465647</td>\n",
       "      <td>-0.675926</td>\n",
       "    </tr>\n",
       "    <tr>\n",
       "      <th>3</th>\n",
       "      <td>-0.024687</td>\n",
       "      <td>1.052581</td>\n",
       "      <td>0.171240</td>\n",
       "      <td>1.129527</td>\n",
       "      <td>0.196757</td>\n",
       "      <td>1.319556</td>\n",
       "      <td>0.642154</td>\n",
       "      <td>-0.167490</td>\n",
       "      <td>-2.421306</td>\n",
       "      <td>0.740909</td>\n",
       "      <td>-0.673102</td>\n",
       "      <td>-0.526122</td>\n",
       "      <td>-0.675926</td>\n",
       "    </tr>\n",
       "    <tr>\n",
       "      <th>4</th>\n",
       "      <td>2.967771</td>\n",
       "      <td>1.052581</td>\n",
       "      <td>-0.004874</td>\n",
       "      <td>-0.885327</td>\n",
       "      <td>-0.671773</td>\n",
       "      <td>-0.757831</td>\n",
       "      <td>1.999435</td>\n",
       "      <td>0.624865</td>\n",
       "      <td>-1.077157</td>\n",
       "      <td>0.740909</td>\n",
       "      <td>-0.673102</td>\n",
       "      <td>-1.043465</td>\n",
       "      <td>1.479451</td>\n",
       "    </tr>\n",
       "  </tbody>\n",
       "</table>\n",
       "</div>"
      ],
      "text/plain": [
       "            age   anaemia  creatinine_phosphokinase  diabetes  \\\n",
       "index                                                           \n",
       "0     -0.452181 -0.950046                  0.165097 -0.885327   \n",
       "1      0.402807 -0.950046                 -0.543458 -0.885327   \n",
       "2     -1.307168 -0.950046                 -0.004874  1.129527   \n",
       "3     -0.024687  1.052581                  0.171240  1.129527   \n",
       "4      2.967771  1.052581                 -0.004874 -0.885327   \n",
       "\n",
       "       ejection_fraction  high_blood_pressure  platelets  serum_creatinine  \\\n",
       "index                                                                        \n",
       "0               0.631022            -0.757831  -0.017526         -0.068446   \n",
       "1              -1.106039            -0.757831   0.407436          3.596194   \n",
       "2               0.023051            -0.757831   0.550307         -0.464623   \n",
       "3               0.196757             1.319556   0.642154         -0.167490   \n",
       "4              -0.671773            -0.757831   1.999435          0.624865   \n",
       "\n",
       "       serum_sodium       sex   smoking      time  DEATH_EVENT  \n",
       "index                                                           \n",
       "0          0.042968  0.740909  1.485659 -0.551989    -0.675926  \n",
       "1         -1.525206  0.740909 -0.673102  0.987105    -0.675926  \n",
       "2          0.715043 -1.349693 -0.673102  1.465647    -0.675926  \n",
       "3         -2.421306  0.740909 -0.673102 -0.526122    -0.675926  \n",
       "4         -1.077157  0.740909 -0.673102 -1.043465     1.479451  "
      ]
     },
     "execution_count": 108,
     "metadata": {},
     "output_type": "execute_result"
    }
   ],
   "source": [
    "# Set the newly created DEATH_EVENT column as index of the df_stocks_scaled DataFrame\n",
    "df_heartdata_scaled = df_heartdata_scaled.set_index(\"index\")\n",
    "df_heartdata_scaled.head(5)"
   ]
  },
  {
   "cell_type": "code",
   "execution_count": 112,
   "metadata": {},
   "outputs": [
    {
     "data": {
      "text/html": [
       "<div>\n",
       "<style scoped>\n",
       "    .dataframe tbody tr th:only-of-type {\n",
       "        vertical-align: middle;\n",
       "    }\n",
       "\n",
       "    .dataframe tbody tr th {\n",
       "        vertical-align: top;\n",
       "    }\n",
       "\n",
       "    .dataframe thead th {\n",
       "        text-align: right;\n",
       "    }\n",
       "</style>\n",
       "<table border=\"1\" class=\"dataframe\">\n",
       "  <thead>\n",
       "    <tr style=\"text-align: right;\">\n",
       "      <th></th>\n",
       "      <th>0</th>\n",
       "      <th>1</th>\n",
       "    </tr>\n",
       "  </thead>\n",
       "  <tbody>\n",
       "    <tr>\n",
       "      <th>0</th>\n",
       "      <td>True</td>\n",
       "      <td>False</td>\n",
       "    </tr>\n",
       "    <tr>\n",
       "      <th>1</th>\n",
       "      <td>True</td>\n",
       "      <td>False</td>\n",
       "    </tr>\n",
       "    <tr>\n",
       "      <th>2</th>\n",
       "      <td>True</td>\n",
       "      <td>False</td>\n",
       "    </tr>\n",
       "    <tr>\n",
       "      <th>3</th>\n",
       "      <td>True</td>\n",
       "      <td>False</td>\n",
       "    </tr>\n",
       "    <tr>\n",
       "      <th>4</th>\n",
       "      <td>False</td>\n",
       "      <td>True</td>\n",
       "    </tr>\n",
       "  </tbody>\n",
       "</table>\n",
       "</div>"
      ],
      "text/plain": [
       "       0      1\n",
       "0   True  False\n",
       "1   True  False\n",
       "2   True  False\n",
       "3   True  False\n",
       "4  False   True"
      ]
     },
     "execution_count": 112,
     "metadata": {},
     "output_type": "execute_result"
    }
   ],
   "source": [
    "# Encode the DEATH EVENT column\n",
    "deathevent_encoded_df = pd.get_dummies(df[\"DEATH_EVENT\"])\n",
    "\n",
    "# Review the DataFrame\n",
    "deathevent_encoded_df.head()"
   ]
  },
  {
   "cell_type": "code",
   "execution_count": 116,
   "metadata": {},
   "outputs": [
    {
     "data": {
      "text/html": [
       "<div>\n",
       "<style scoped>\n",
       "    .dataframe tbody tr th:only-of-type {\n",
       "        vertical-align: middle;\n",
       "    }\n",
       "\n",
       "    .dataframe tbody tr th {\n",
       "        vertical-align: top;\n",
       "    }\n",
       "\n",
       "    .dataframe thead th {\n",
       "        text-align: right;\n",
       "    }\n",
       "</style>\n",
       "<table border=\"1\" class=\"dataframe\">\n",
       "  <thead>\n",
       "    <tr style=\"text-align: right;\">\n",
       "      <th></th>\n",
       "      <th>age</th>\n",
       "      <th>anaemia</th>\n",
       "      <th>creatinine_phosphokinase</th>\n",
       "      <th>diabetes</th>\n",
       "      <th>ejection_fraction</th>\n",
       "      <th>high_blood_pressure</th>\n",
       "      <th>platelets</th>\n",
       "      <th>serum_creatinine</th>\n",
       "      <th>serum_sodium</th>\n",
       "      <th>sex</th>\n",
       "      <th>smoking</th>\n",
       "      <th>time</th>\n",
       "      <th>DEATH_EVENT</th>\n",
       "      <th>0</th>\n",
       "      <th>1</th>\n",
       "    </tr>\n",
       "  </thead>\n",
       "  <tbody>\n",
       "    <tr>\n",
       "      <th>0</th>\n",
       "      <td>-0.452181</td>\n",
       "      <td>-0.950046</td>\n",
       "      <td>0.165097</td>\n",
       "      <td>-0.885327</td>\n",
       "      <td>0.631022</td>\n",
       "      <td>-0.757831</td>\n",
       "      <td>-0.017526</td>\n",
       "      <td>-0.068446</td>\n",
       "      <td>0.042968</td>\n",
       "      <td>0.740909</td>\n",
       "      <td>1.485659</td>\n",
       "      <td>-0.551989</td>\n",
       "      <td>-0.675926</td>\n",
       "      <td>True</td>\n",
       "      <td>False</td>\n",
       "    </tr>\n",
       "    <tr>\n",
       "      <th>1</th>\n",
       "      <td>0.402807</td>\n",
       "      <td>-0.950046</td>\n",
       "      <td>-0.543458</td>\n",
       "      <td>-0.885327</td>\n",
       "      <td>-1.106039</td>\n",
       "      <td>-0.757831</td>\n",
       "      <td>0.407436</td>\n",
       "      <td>3.596194</td>\n",
       "      <td>-1.525206</td>\n",
       "      <td>0.740909</td>\n",
       "      <td>-0.673102</td>\n",
       "      <td>0.987105</td>\n",
       "      <td>-0.675926</td>\n",
       "      <td>True</td>\n",
       "      <td>False</td>\n",
       "    </tr>\n",
       "    <tr>\n",
       "      <th>2</th>\n",
       "      <td>-1.307168</td>\n",
       "      <td>-0.950046</td>\n",
       "      <td>-0.004874</td>\n",
       "      <td>1.129527</td>\n",
       "      <td>0.023051</td>\n",
       "      <td>-0.757831</td>\n",
       "      <td>0.550307</td>\n",
       "      <td>-0.464623</td>\n",
       "      <td>0.715043</td>\n",
       "      <td>-1.349693</td>\n",
       "      <td>-0.673102</td>\n",
       "      <td>1.465647</td>\n",
       "      <td>-0.675926</td>\n",
       "      <td>True</td>\n",
       "      <td>False</td>\n",
       "    </tr>\n",
       "    <tr>\n",
       "      <th>3</th>\n",
       "      <td>-0.024687</td>\n",
       "      <td>1.052581</td>\n",
       "      <td>0.171240</td>\n",
       "      <td>1.129527</td>\n",
       "      <td>0.196757</td>\n",
       "      <td>1.319556</td>\n",
       "      <td>0.642154</td>\n",
       "      <td>-0.167490</td>\n",
       "      <td>-2.421306</td>\n",
       "      <td>0.740909</td>\n",
       "      <td>-0.673102</td>\n",
       "      <td>-0.526122</td>\n",
       "      <td>-0.675926</td>\n",
       "      <td>True</td>\n",
       "      <td>False</td>\n",
       "    </tr>\n",
       "    <tr>\n",
       "      <th>4</th>\n",
       "      <td>2.967771</td>\n",
       "      <td>1.052581</td>\n",
       "      <td>-0.004874</td>\n",
       "      <td>-0.885327</td>\n",
       "      <td>-0.671773</td>\n",
       "      <td>-0.757831</td>\n",
       "      <td>1.999435</td>\n",
       "      <td>0.624865</td>\n",
       "      <td>-1.077157</td>\n",
       "      <td>0.740909</td>\n",
       "      <td>-0.673102</td>\n",
       "      <td>-1.043465</td>\n",
       "      <td>1.479451</td>\n",
       "      <td>False</td>\n",
       "      <td>True</td>\n",
       "    </tr>\n",
       "  </tbody>\n",
       "</table>\n",
       "</div>"
      ],
      "text/plain": [
       "        age   anaemia  creatinine_phosphokinase  diabetes  ejection_fraction  \\\n",
       "0 -0.452181 -0.950046                  0.165097 -0.885327           0.631022   \n",
       "1  0.402807 -0.950046                 -0.543458 -0.885327          -1.106039   \n",
       "2 -1.307168 -0.950046                 -0.004874  1.129527           0.023051   \n",
       "3 -0.024687  1.052581                  0.171240  1.129527           0.196757   \n",
       "4  2.967771  1.052581                 -0.004874 -0.885327          -0.671773   \n",
       "\n",
       "   high_blood_pressure  platelets  serum_creatinine  serum_sodium       sex  \\\n",
       "0            -0.757831  -0.017526         -0.068446      0.042968  0.740909   \n",
       "1            -0.757831   0.407436          3.596194     -1.525206  0.740909   \n",
       "2            -0.757831   0.550307         -0.464623      0.715043 -1.349693   \n",
       "3             1.319556   0.642154         -0.167490     -2.421306  0.740909   \n",
       "4            -0.757831   1.999435          0.624865     -1.077157  0.740909   \n",
       "\n",
       "    smoking      time  DEATH_EVENT      0      1  \n",
       "0  1.485659 -0.551989    -0.675926   True  False  \n",
       "1 -0.673102  0.987105    -0.675926   True  False  \n",
       "2 -0.673102  1.465647    -0.675926   True  False  \n",
       "3 -0.673102 -0.526122    -0.675926   True  False  \n",
       "4 -0.673102 -1.043465     1.479451  False   True  "
      ]
     },
     "execution_count": 116,
     "metadata": {},
     "output_type": "execute_result"
    }
   ],
   "source": [
    "# Concatenate the `DEATH EVENT` encoded DataFrame with the scaled data DataFrame\n",
    "scaled_encoded = pd.concat([df_heartdata_scaled, deathevent_encoded_df], axis=1)\n",
    "\n",
    "# Display the sample data\n",
    "scaled_encoded.head()"
   ]
  },
  {
   "cell_type": "markdown",
   "metadata": {},
   "source": [
    "### Initialize the K-means model with three clusters and then fit the DataFrame to the model."
   ]
  },
  {
   "cell_type": "code",
   "execution_count": 128,
   "metadata": {},
   "outputs": [
    {
     "data": {
      "text/plain": [
       "Index(['age', 'anaemia', 'creatinine_phosphokinase', 'diabetes',\n",
       "       'ejection_fraction', 'high_blood_pressure', 'platelets',\n",
       "       'serum_creatinine', 'serum_sodium', 'sex', 'smoking', 'time',\n",
       "       'DEATH_EVENT', '0', '1'],\n",
       "      dtype='object')"
      ]
     },
     "execution_count": 128,
     "metadata": {},
     "output_type": "execute_result"
    }
   ],
   "source": [
    "scaled_encoded.columns = scaled_encoded.columns.astype(str)\n",
    "scaled_encoded.columns"
   ]
  },
  {
   "cell_type": "code",
   "execution_count": 130,
   "metadata": {},
   "outputs": [],
   "source": [
    "# Initialize the K-Means model with n_clusters=3\n",
    "model = KMeans(n_clusters=3, random_state=1)"
   ]
  },
  {
   "cell_type": "code",
   "execution_count": 132,
   "metadata": {},
   "outputs": [
    {
     "name": "stderr",
     "output_type": "stream",
     "text": [
      "/opt/anaconda3/lib/python3.11/site-packages/sklearn/cluster/_kmeans.py:870: FutureWarning: The default value of `n_init` will change from 10 to 'auto' in 1.4. Set the value of `n_init` explicitly to suppress the warning\n",
      "  warnings.warn(\n"
     ]
    },
    {
     "data": {
      "text/html": [
       "<style>#sk-container-id-1 {color: black;background-color: white;}#sk-container-id-1 pre{padding: 0;}#sk-container-id-1 div.sk-toggleable {background-color: white;}#sk-container-id-1 label.sk-toggleable__label {cursor: pointer;display: block;width: 100%;margin-bottom: 0;padding: 0.3em;box-sizing: border-box;text-align: center;}#sk-container-id-1 label.sk-toggleable__label-arrow:before {content: \"▸\";float: left;margin-right: 0.25em;color: #696969;}#sk-container-id-1 label.sk-toggleable__label-arrow:hover:before {color: black;}#sk-container-id-1 div.sk-estimator:hover label.sk-toggleable__label-arrow:before {color: black;}#sk-container-id-1 div.sk-toggleable__content {max-height: 0;max-width: 0;overflow: hidden;text-align: left;background-color: #f0f8ff;}#sk-container-id-1 div.sk-toggleable__content pre {margin: 0.2em;color: black;border-radius: 0.25em;background-color: #f0f8ff;}#sk-container-id-1 input.sk-toggleable__control:checked~div.sk-toggleable__content {max-height: 200px;max-width: 100%;overflow: auto;}#sk-container-id-1 input.sk-toggleable__control:checked~label.sk-toggleable__label-arrow:before {content: \"▾\";}#sk-container-id-1 div.sk-estimator input.sk-toggleable__control:checked~label.sk-toggleable__label {background-color: #d4ebff;}#sk-container-id-1 div.sk-label input.sk-toggleable__control:checked~label.sk-toggleable__label {background-color: #d4ebff;}#sk-container-id-1 input.sk-hidden--visually {border: 0;clip: rect(1px 1px 1px 1px);clip: rect(1px, 1px, 1px, 1px);height: 1px;margin: -1px;overflow: hidden;padding: 0;position: absolute;width: 1px;}#sk-container-id-1 div.sk-estimator {font-family: monospace;background-color: #f0f8ff;border: 1px dotted black;border-radius: 0.25em;box-sizing: border-box;margin-bottom: 0.5em;}#sk-container-id-1 div.sk-estimator:hover {background-color: #d4ebff;}#sk-container-id-1 div.sk-parallel-item::after {content: \"\";width: 100%;border-bottom: 1px solid gray;flex-grow: 1;}#sk-container-id-1 div.sk-label:hover label.sk-toggleable__label {background-color: #d4ebff;}#sk-container-id-1 div.sk-serial::before {content: \"\";position: absolute;border-left: 1px solid gray;box-sizing: border-box;top: 0;bottom: 0;left: 50%;z-index: 0;}#sk-container-id-1 div.sk-serial {display: flex;flex-direction: column;align-items: center;background-color: white;padding-right: 0.2em;padding-left: 0.2em;position: relative;}#sk-container-id-1 div.sk-item {position: relative;z-index: 1;}#sk-container-id-1 div.sk-parallel {display: flex;align-items: stretch;justify-content: center;background-color: white;position: relative;}#sk-container-id-1 div.sk-item::before, #sk-container-id-1 div.sk-parallel-item::before {content: \"\";position: absolute;border-left: 1px solid gray;box-sizing: border-box;top: 0;bottom: 0;left: 50%;z-index: -1;}#sk-container-id-1 div.sk-parallel-item {display: flex;flex-direction: column;z-index: 1;position: relative;background-color: white;}#sk-container-id-1 div.sk-parallel-item:first-child::after {align-self: flex-end;width: 50%;}#sk-container-id-1 div.sk-parallel-item:last-child::after {align-self: flex-start;width: 50%;}#sk-container-id-1 div.sk-parallel-item:only-child::after {width: 0;}#sk-container-id-1 div.sk-dashed-wrapped {border: 1px dashed gray;margin: 0 0.4em 0.5em 0.4em;box-sizing: border-box;padding-bottom: 0.4em;background-color: white;}#sk-container-id-1 div.sk-label label {font-family: monospace;font-weight: bold;display: inline-block;line-height: 1.2em;}#sk-container-id-1 div.sk-label-container {text-align: center;}#sk-container-id-1 div.sk-container {/* jupyter's `normalize.less` sets `[hidden] { display: none; }` but bootstrap.min.css set `[hidden] { display: none !important; }` so we also need the `!important` here to be able to override the default hidden behavior on the sphinx rendered scikit-learn.org. See: https://github.com/scikit-learn/scikit-learn/issues/21755 */display: inline-block !important;position: relative;}#sk-container-id-1 div.sk-text-repr-fallback {display: none;}</style><div id=\"sk-container-id-1\" class=\"sk-top-container\"><div class=\"sk-text-repr-fallback\"><pre>KMeans(n_clusters=3, random_state=1)</pre><b>In a Jupyter environment, please rerun this cell to show the HTML representation or trust the notebook. <br />On GitHub, the HTML representation is unable to render, please try loading this page with nbviewer.org.</b></div><div class=\"sk-container\" hidden><div class=\"sk-item\"><div class=\"sk-estimator sk-toggleable\"><input class=\"sk-toggleable__control sk-hidden--visually\" id=\"sk-estimator-id-1\" type=\"checkbox\" checked><label for=\"sk-estimator-id-1\" class=\"sk-toggleable__label sk-toggleable__label-arrow\">KMeans</label><div class=\"sk-toggleable__content\"><pre>KMeans(n_clusters=3, random_state=1)</pre></div></div></div></div></div>"
      ],
      "text/plain": [
       "KMeans(n_clusters=3, random_state=1)"
      ]
     },
     "execution_count": 132,
     "metadata": {},
     "output_type": "execute_result"
    }
   ],
   "source": [
    "# Fit the model for the scaled_encoded_stocks DataFrame\n",
    "model.fit(scaled_encoded)"
   ]
  },
  {
   "cell_type": "markdown",
   "metadata": {},
   "source": [
    "### Predict the clusters and then create a new DataFrame with the predicted clusters."
   ]
  },
  {
   "cell_type": "code",
   "execution_count": 134,
   "metadata": {},
   "outputs": [
    {
     "data": {
      "text/html": [
       "<div>\n",
       "<style scoped>\n",
       "    .dataframe tbody tr th:only-of-type {\n",
       "        vertical-align: middle;\n",
       "    }\n",
       "\n",
       "    .dataframe tbody tr th {\n",
       "        vertical-align: top;\n",
       "    }\n",
       "\n",
       "    .dataframe thead th {\n",
       "        text-align: right;\n",
       "    }\n",
       "</style>\n",
       "<table border=\"1\" class=\"dataframe\">\n",
       "  <thead>\n",
       "    <tr style=\"text-align: right;\">\n",
       "      <th></th>\n",
       "      <th>age</th>\n",
       "      <th>anaemia</th>\n",
       "      <th>creatinine_phosphokinase</th>\n",
       "      <th>diabetes</th>\n",
       "      <th>ejection_fraction</th>\n",
       "      <th>high_blood_pressure</th>\n",
       "      <th>platelets</th>\n",
       "      <th>serum_creatinine</th>\n",
       "      <th>serum_sodium</th>\n",
       "      <th>sex</th>\n",
       "      <th>smoking</th>\n",
       "      <th>time</th>\n",
       "      <th>DEATH_EVENT</th>\n",
       "      <th>0</th>\n",
       "      <th>1</th>\n",
       "      <th>HeartDiseaseDeathCluster</th>\n",
       "    </tr>\n",
       "  </thead>\n",
       "  <tbody>\n",
       "    <tr>\n",
       "      <th>0</th>\n",
       "      <td>-0.452181</td>\n",
       "      <td>-0.950046</td>\n",
       "      <td>0.165097</td>\n",
       "      <td>-0.885327</td>\n",
       "      <td>0.631022</td>\n",
       "      <td>-0.757831</td>\n",
       "      <td>-0.017526</td>\n",
       "      <td>-0.068446</td>\n",
       "      <td>0.042968</td>\n",
       "      <td>0.740909</td>\n",
       "      <td>1.485659</td>\n",
       "      <td>-0.551989</td>\n",
       "      <td>-0.675926</td>\n",
       "      <td>True</td>\n",
       "      <td>False</td>\n",
       "      <td>0</td>\n",
       "    </tr>\n",
       "    <tr>\n",
       "      <th>1</th>\n",
       "      <td>0.402807</td>\n",
       "      <td>-0.950046</td>\n",
       "      <td>-0.543458</td>\n",
       "      <td>-0.885327</td>\n",
       "      <td>-1.106039</td>\n",
       "      <td>-0.757831</td>\n",
       "      <td>0.407436</td>\n",
       "      <td>3.596194</td>\n",
       "      <td>-1.525206</td>\n",
       "      <td>0.740909</td>\n",
       "      <td>-0.673102</td>\n",
       "      <td>0.987105</td>\n",
       "      <td>-0.675926</td>\n",
       "      <td>True</td>\n",
       "      <td>False</td>\n",
       "      <td>0</td>\n",
       "    </tr>\n",
       "    <tr>\n",
       "      <th>2</th>\n",
       "      <td>-1.307168</td>\n",
       "      <td>-0.950046</td>\n",
       "      <td>-0.004874</td>\n",
       "      <td>1.129527</td>\n",
       "      <td>0.023051</td>\n",
       "      <td>-0.757831</td>\n",
       "      <td>0.550307</td>\n",
       "      <td>-0.464623</td>\n",
       "      <td>0.715043</td>\n",
       "      <td>-1.349693</td>\n",
       "      <td>-0.673102</td>\n",
       "      <td>1.465647</td>\n",
       "      <td>-0.675926</td>\n",
       "      <td>True</td>\n",
       "      <td>False</td>\n",
       "      <td>2</td>\n",
       "    </tr>\n",
       "    <tr>\n",
       "      <th>3</th>\n",
       "      <td>-0.024687</td>\n",
       "      <td>1.052581</td>\n",
       "      <td>0.171240</td>\n",
       "      <td>1.129527</td>\n",
       "      <td>0.196757</td>\n",
       "      <td>1.319556</td>\n",
       "      <td>0.642154</td>\n",
       "      <td>-0.167490</td>\n",
       "      <td>-2.421306</td>\n",
       "      <td>0.740909</td>\n",
       "      <td>-0.673102</td>\n",
       "      <td>-0.526122</td>\n",
       "      <td>-0.675926</td>\n",
       "      <td>True</td>\n",
       "      <td>False</td>\n",
       "      <td>0</td>\n",
       "    </tr>\n",
       "    <tr>\n",
       "      <th>4</th>\n",
       "      <td>2.967771</td>\n",
       "      <td>1.052581</td>\n",
       "      <td>-0.004874</td>\n",
       "      <td>-0.885327</td>\n",
       "      <td>-0.671773</td>\n",
       "      <td>-0.757831</td>\n",
       "      <td>1.999435</td>\n",
       "      <td>0.624865</td>\n",
       "      <td>-1.077157</td>\n",
       "      <td>0.740909</td>\n",
       "      <td>-0.673102</td>\n",
       "      <td>-1.043465</td>\n",
       "      <td>1.479451</td>\n",
       "      <td>False</td>\n",
       "      <td>True</td>\n",
       "      <td>1</td>\n",
       "    </tr>\n",
       "  </tbody>\n",
       "</table>\n",
       "</div>"
      ],
      "text/plain": [
       "        age   anaemia  creatinine_phosphokinase  diabetes  ejection_fraction  \\\n",
       "0 -0.452181 -0.950046                  0.165097 -0.885327           0.631022   \n",
       "1  0.402807 -0.950046                 -0.543458 -0.885327          -1.106039   \n",
       "2 -1.307168 -0.950046                 -0.004874  1.129527           0.023051   \n",
       "3 -0.024687  1.052581                  0.171240  1.129527           0.196757   \n",
       "4  2.967771  1.052581                 -0.004874 -0.885327          -0.671773   \n",
       "\n",
       "   high_blood_pressure  platelets  serum_creatinine  serum_sodium       sex  \\\n",
       "0            -0.757831  -0.017526         -0.068446      0.042968  0.740909   \n",
       "1            -0.757831   0.407436          3.596194     -1.525206  0.740909   \n",
       "2            -0.757831   0.550307         -0.464623      0.715043 -1.349693   \n",
       "3             1.319556   0.642154         -0.167490     -2.421306  0.740909   \n",
       "4            -0.757831   1.999435          0.624865     -1.077157  0.740909   \n",
       "\n",
       "    smoking      time  DEATH_EVENT      0      1  HeartDiseaseDeathCluster  \n",
       "0  1.485659 -0.551989    -0.675926   True  False                         0  \n",
       "1 -0.673102  0.987105    -0.675926   True  False                         0  \n",
       "2 -0.673102  1.465647    -0.675926   True  False                         2  \n",
       "3 -0.673102 -0.526122    -0.675926   True  False                         0  \n",
       "4 -0.673102 -1.043465     1.479451  False   True                         1  "
      ]
     },
     "execution_count": 134,
     "metadata": {},
     "output_type": "execute_result"
    }
   ],
   "source": [
    "# Create a copy of the scaled_encoded_stocks DataFrame and name it as heart_scaled_predictions\n",
    "heart_scaled_predictions = scaled_encoded.copy()\n",
    "\n",
    "# Predict the model segments (clusters)\n",
    "df_clusters = model.predict(heart_scaled_predictions)\n",
    "\n",
    "# Create a new column in the DataFrame with the predicted clusters\n",
    "heart_scaled_predictions[\"HeartDiseaseDeathCluster\"] = df_clusters\n",
    "\n",
    "# Review the DataFrame\n",
    "heart_scaled_predictions.head()"
   ]
  },
  {
   "cell_type": "markdown",
   "metadata": {},
   "source": [
    "### Step 5: Create a scatter plot to visualize the Clusters"
   ]
  },
  {
   "cell_type": "code",
   "execution_count": 142,
   "metadata": {
    "scrolled": true
   },
   "outputs": [
    {
     "data": {
      "text/plain": [
       "<Axes: xlabel='sex', ylabel='smoking'>"
      ]
     },
     "execution_count": 142,
     "metadata": {},
     "output_type": "execute_result"
    },
    {
     "data": {
      "image/png": "[encoded data removed]",
      "text/plain": [
       "<Figure size 640x480 with 2 Axes>"
      ]
     },
     "metadata": {},
     "output_type": "display_data"
    }
   ],
   "source": [
    "heart_scaled_predictions.plot.scatter(\n",
    "    x=\"sex\",\n",
    "    y=\"smoking\",\n",
    "    c=\"HeartDiseaseDeathCluster\",\n",
    "    colormap='winter')"
   ]
  },
  {
   "cell_type": "markdown",
   "metadata": {},
   "source": [
    "### Reduce the number of features to two principal components on the `df_heart_pca` DataFrame, and  calculate the explained variance ratio that results from the PCA data."
   ]
  },
  {
   "cell_type": "code",
   "execution_count": 145,
   "metadata": {},
   "outputs": [],
   "source": [
    "# Create the PCA model instance where n_components=2\n",
    "pca = PCA(n_components=2)"
   ]
  },
  {
   "cell_type": "code",
   "execution_count": 147,
   "metadata": {},
   "outputs": [
    {
     "data": {
      "text/plain": [
       "array([[-0.59803844,  1.94691815],\n",
       "       [ 0.82790238,  0.92147872],\n",
       "       [-2.28801242, -0.93738525],\n",
       "       [ 0.40799659, -0.81882863],\n",
       "       [ 3.102463  , -0.15959155]])"
      ]
     },
     "execution_count": 147,
     "metadata": {},
     "output_type": "execute_result"
    }
   ],
   "source": [
    "# Fit the scaled_encoded_stocks data to the PCA\n",
    "heartdisease_pca_data = pca.fit_transform(scaled_encoded)\n",
    "\n",
    "# Review the first five rose of the PCA data\n",
    "# using bracket notation ([0:5])\n",
    "heartdisease_pca_data[:5]"
   ]
  },
  {
   "cell_type": "code",
   "execution_count": 149,
   "metadata": {},
   "outputs": [
    {
     "data": {
      "text/plain": [
       "array([0.17915215, 0.11879202])"
      ]
     },
     "execution_count": 149,
     "metadata": {},
     "output_type": "execute_result"
    }
   ],
   "source": [
    "# Calculate the explained variance\n",
    "pca.explained_variance_ratio_"
   ]
  },
  {
   "cell_type": "markdown",
   "metadata": {},
   "source": [
    "### Use the calculate PCA DataFrame to create a new DataFrame called, `df_heart_pca`"
   ]
  },
  {
   "cell_type": "code",
   "execution_count": 151,
   "metadata": {},
   "outputs": [
    {
     "data": {
      "text/html": [
       "<div>\n",
       "<style scoped>\n",
       "    .dataframe tbody tr th:only-of-type {\n",
       "        vertical-align: middle;\n",
       "    }\n",
       "\n",
       "    .dataframe tbody tr th {\n",
       "        vertical-align: top;\n",
       "    }\n",
       "\n",
       "    .dataframe thead th {\n",
       "        text-align: right;\n",
       "    }\n",
       "</style>\n",
       "<table border=\"1\" class=\"dataframe\">\n",
       "  <thead>\n",
       "    <tr style=\"text-align: right;\">\n",
       "      <th></th>\n",
       "      <th>PCA1</th>\n",
       "      <th>PCA2</th>\n",
       "    </tr>\n",
       "  </thead>\n",
       "  <tbody>\n",
       "    <tr>\n",
       "      <th>0</th>\n",
       "      <td>-0.598038</td>\n",
       "      <td>1.946918</td>\n",
       "    </tr>\n",
       "    <tr>\n",
       "      <th>1</th>\n",
       "      <td>0.827902</td>\n",
       "      <td>0.921479</td>\n",
       "    </tr>\n",
       "    <tr>\n",
       "      <th>2</th>\n",
       "      <td>-2.288012</td>\n",
       "      <td>-0.937385</td>\n",
       "    </tr>\n",
       "    <tr>\n",
       "      <th>3</th>\n",
       "      <td>0.407997</td>\n",
       "      <td>-0.818829</td>\n",
       "    </tr>\n",
       "    <tr>\n",
       "      <th>4</th>\n",
       "      <td>3.102463</td>\n",
       "      <td>-0.159592</td>\n",
       "    </tr>\n",
       "  </tbody>\n",
       "</table>\n",
       "</div>"
      ],
      "text/plain": [
       "       PCA1      PCA2\n",
       "0 -0.598038  1.946918\n",
       "1  0.827902  0.921479\n",
       "2 -2.288012 -0.937385\n",
       "3  0.407997 -0.818829\n",
       "4  3.102463 -0.159592"
      ]
     },
     "execution_count": 151,
     "metadata": {},
     "output_type": "execute_result"
    }
   ],
   "source": [
    "# Creating a DataFrame with the PCA data\n",
    "df_heart_pca = pd.DataFrame(heartdisease_pca_data, columns=[\"PCA1\", \"PCA2\"])\n",
    "\n",
    "# NOTE: I COMMENTED THIS OUT BC I DONT THINK WE NEED TO CREATE AN INDEX FOR THIS DATASET. WHEN YOU VIEW IT, A INDEX ALREADY IS AVAILABLE.\n",
    "# Copy the tickers names from the original data\n",
    "#df_heart_pca[\"\"] = df.index\n",
    "\n",
    "# Set the Ticker column as index\n",
    "#df_heart_pca = df_stocks_pca.set_index(\"\")\n",
    "\n",
    "# Review the DataFrame\n",
    "df_heart_pca.head()"
   ]
  },
  {
   "cell_type": "markdown",
   "metadata": {},
   "source": [
    "### Rerun the K-means algorithm on the `df_heart_pca` DataFrame and create a scatter plot using the  \"Clusters\" and the two principal components for the x- and y-axes."
   ]
  },
  {
   "cell_type": "code",
   "execution_count": 153,
   "metadata": {},
   "outputs": [
    {
     "name": "stderr",
     "output_type": "stream",
     "text": [
      "/opt/anaconda3/lib/python3.11/site-packages/sklearn/cluster/_kmeans.py:870: FutureWarning: The default value of `n_init` will change from 10 to 'auto' in 1.4. Set the value of `n_init` explicitly to suppress the warning\n",
      "  warnings.warn(\n"
     ]
    }
   ],
   "source": [
    "# Initialize the K-Means model with n_clusters=3\n",
    "model = KMeans(n_clusters=3, random_state=1)\n",
    "\n",
    "# Fit the model for the df_heart_pca DataFrame\n",
    "model.fit(df_heart_pca)\n",
    "\n",
    "# Predict the model segments (clusters)\n",
    "heartdisease_clusters = model.predict(df_heart_pca)"
   ]
  },
  {
   "cell_type": "code",
   "execution_count": 161,
   "metadata": {},
   "outputs": [
    {
     "data": {
      "text/html": [
       "<div>\n",
       "<style scoped>\n",
       "    .dataframe tbody tr th:only-of-type {\n",
       "        vertical-align: middle;\n",
       "    }\n",
       "\n",
       "    .dataframe tbody tr th {\n",
       "        vertical-align: top;\n",
       "    }\n",
       "\n",
       "    .dataframe thead th {\n",
       "        text-align: right;\n",
       "    }\n",
       "</style>\n",
       "<table border=\"1\" class=\"dataframe\">\n",
       "  <thead>\n",
       "    <tr style=\"text-align: right;\">\n",
       "      <th></th>\n",
       "      <th>PCA1</th>\n",
       "      <th>PCA2</th>\n",
       "      <th>Clusters</th>\n",
       "    </tr>\n",
       "  </thead>\n",
       "  <tbody>\n",
       "    <tr>\n",
       "      <th>0</th>\n",
       "      <td>-0.598038</td>\n",
       "      <td>1.946918</td>\n",
       "      <td>2</td>\n",
       "    </tr>\n",
       "    <tr>\n",
       "      <th>1</th>\n",
       "      <td>0.827902</td>\n",
       "      <td>0.921479</td>\n",
       "      <td>1</td>\n",
       "    </tr>\n",
       "    <tr>\n",
       "      <th>2</th>\n",
       "      <td>-2.288012</td>\n",
       "      <td>-0.937385</td>\n",
       "      <td>0</td>\n",
       "    </tr>\n",
       "    <tr>\n",
       "      <th>3</th>\n",
       "      <td>0.407997</td>\n",
       "      <td>-0.818829</td>\n",
       "      <td>0</td>\n",
       "    </tr>\n",
       "    <tr>\n",
       "      <th>4</th>\n",
       "      <td>3.102463</td>\n",
       "      <td>-0.159592</td>\n",
       "      <td>1</td>\n",
       "    </tr>\n",
       "  </tbody>\n",
       "</table>\n",
       "</div>"
      ],
      "text/plain": [
       "       PCA1      PCA2  Clusters\n",
       "0 -0.598038  1.946918         2\n",
       "1  0.827902  0.921479         1\n",
       "2 -2.288012 -0.937385         0\n",
       "3  0.407997 -0.818829         0\n",
       "4  3.102463 -0.159592         1"
      ]
     },
     "execution_count": 161,
     "metadata": {},
     "output_type": "execute_result"
    }
   ],
   "source": [
    "# Create a copy of the df_stocks_pca DataFrame and name it as df_heartdisease_pca_predictions\n",
    "df_heartdisease_pca_predictions = df_heart_pca.copy()\n",
    "\n",
    "# Create a new column in the DataFrame with the predicted clusters\n",
    "df_heartdisease_pca_predictions[\"Clusters\"] = heartdisease_clusters\n",
    "\n",
    "# Review the DataFrame\n",
    "df_heartdisease_pca_predictions.head()"
   ]
  },
  {
   "cell_type": "code",
   "execution_count": 165,
   "metadata": {},
   "outputs": [
    {
     "data": {
      "text/plain": [
       "<Axes: xlabel='PCA1', ylabel='PCA2'>"
      ]
     },
     "execution_count": 165,
     "metadata": {},
     "output_type": "execute_result"
    },
    {
     "data": {
      "image/png": "[encoded data removed]",
      "text/plain": [
       "<Figure size 640x480 with 2 Axes>"
      ]
     },
     "metadata": {},
     "output_type": "display_data"
    }
   ],
   "source": [
    "# Create the scatter plot with x=\"PCA1\" and y=\"PCA2\"\n",
    "df_heartdisease_pca_predictions.plot.scatter(\n",
    "    x=\"PCA1\",\n",
    "    y=\"PCA2\",\n",
    "    c=\"Clusters\",\n",
    "    colormap='winter')"
   ]
  },
  {
   "cell_type": "markdown",
   "metadata": {},
   "source": [
    "**Question:** After visually analyzing the cluster analysis results, what is the impact of using fewer features to cluster the data using K-Means?\n",
    "\n",
    "\n",
    "\n",
    "**Answer:** We can conclude that using less features we can more clearly identify three clusters."
   ]
  },
  {
   "cell_type": "markdown",
   "metadata": {},
   "source": [
    "### Determine which features have the strongest influence on each componen, and plot the most influencial features for each component."
   ]
  },
  {
   "cell_type": "code",
   "execution_count": 167,
   "metadata": {},
   "outputs": [
    {
     "data": {
      "text/html": [
       "<div>\n",
       "<style scoped>\n",
       "    .dataframe tbody tr th:only-of-type {\n",
       "        vertical-align: middle;\n",
       "    }\n",
       "\n",
       "    .dataframe tbody tr th {\n",
       "        vertical-align: top;\n",
       "    }\n",
       "\n",
       "    .dataframe thead th {\n",
       "        text-align: right;\n",
       "    }\n",
       "</style>\n",
       "<table border=\"1\" class=\"dataframe\">\n",
       "  <thead>\n",
       "    <tr style=\"text-align: right;\">\n",
       "      <th></th>\n",
       "      <th>PCA1</th>\n",
       "      <th>PCA2</th>\n",
       "    </tr>\n",
       "  </thead>\n",
       "  <tbody>\n",
       "    <tr>\n",
       "      <th>age</th>\n",
       "      <td>0.271996</td>\n",
       "      <td>-0.038875</td>\n",
       "    </tr>\n",
       "    <tr>\n",
       "      <th>anaemia</th>\n",
       "      <td>0.084001</td>\n",
       "      <td>-0.291338</td>\n",
       "    </tr>\n",
       "    <tr>\n",
       "      <th>creatinine_phosphokinase</th>\n",
       "      <td>0.020885</td>\n",
       "      <td>0.165746</td>\n",
       "    </tr>\n",
       "    <tr>\n",
       "      <th>diabetes</th>\n",
       "      <td>-0.032418</td>\n",
       "      <td>-0.296249</td>\n",
       "    </tr>\n",
       "    <tr>\n",
       "      <th>ejection_fraction</th>\n",
       "      <td>-0.232514</td>\n",
       "      <td>-0.123530</td>\n",
       "    </tr>\n",
       "    <tr>\n",
       "      <th>high_blood_pressure</th>\n",
       "      <td>0.107820</td>\n",
       "      <td>-0.199937</td>\n",
       "    </tr>\n",
       "    <tr>\n",
       "      <th>platelets</th>\n",
       "      <td>-0.046375</td>\n",
       "      <td>-0.068387</td>\n",
       "    </tr>\n",
       "    <tr>\n",
       "      <th>serum_creatinine</th>\n",
       "      <td>0.328754</td>\n",
       "      <td>-0.010545</td>\n",
       "    </tr>\n",
       "    <tr>\n",
       "      <th>serum_sodium</th>\n",
       "      <td>-0.256598</td>\n",
       "      <td>-0.036799</td>\n",
       "    </tr>\n",
       "    <tr>\n",
       "      <th>sex</th>\n",
       "      <td>0.097112</td>\n",
       "      <td>0.617637</td>\n",
       "    </tr>\n",
       "    <tr>\n",
       "      <th>smoking</th>\n",
       "      <td>0.044327</td>\n",
       "      <td>0.583127</td>\n",
       "    </tr>\n",
       "    <tr>\n",
       "      <th>time</th>\n",
       "      <td>-0.446822</td>\n",
       "      <td>0.117686</td>\n",
       "    </tr>\n",
       "    <tr>\n",
       "      <th>DEATH_EVENT</th>\n",
       "      <td>0.569936</td>\n",
       "      <td>-0.033823</td>\n",
       "    </tr>\n",
       "    <tr>\n",
       "      <th>0</th>\n",
       "      <td>-0.264425</td>\n",
       "      <td>0.015692</td>\n",
       "    </tr>\n",
       "    <tr>\n",
       "      <th>1</th>\n",
       "      <td>0.264425</td>\n",
       "      <td>-0.015692</td>\n",
       "    </tr>\n",
       "  </tbody>\n",
       "</table>\n",
       "</div>"
      ],
      "text/plain": [
       "                              PCA1      PCA2\n",
       "age                       0.271996 -0.038875\n",
       "anaemia                   0.084001 -0.291338\n",
       "creatinine_phosphokinase  0.020885  0.165746\n",
       "diabetes                 -0.032418 -0.296249\n",
       "ejection_fraction        -0.232514 -0.123530\n",
       "high_blood_pressure       0.107820 -0.199937\n",
       "platelets                -0.046375 -0.068387\n",
       "serum_creatinine          0.328754 -0.010545\n",
       "serum_sodium             -0.256598 -0.036799\n",
       "sex                       0.097112  0.617637\n",
       "smoking                   0.044327  0.583127\n",
       "time                     -0.446822  0.117686\n",
       "DEATH_EVENT               0.569936 -0.033823\n",
       "0                        -0.264425  0.015692\n",
       "1                         0.264425 -0.015692"
      ]
     },
     "execution_count": 167,
     "metadata": {},
     "output_type": "execute_result"
    }
   ],
   "source": [
    "# Use the columns from the scaled and encoded DataFrame in step 2.\n",
    "pca_component_weights = pd.DataFrame(pca.components_.T, columns=['PCA1', 'PCA2'], index=scaled_encoded.columns)\n",
    "pca_component_weights"
   ]
  },
  {
   "cell_type": "markdown",
   "metadata": {},
   "source": [
    "### Which features have the strongest influence on each component? \n",
    "--- \n",
    "**Answer:** \n"
   ]
  },
  {
   "cell_type": "markdown",
   "metadata": {},
   "source": [
    "### Create a scatterplot of the most influential features for each principal component and stock cluster."
   ]
  },
  {
   "cell_type": "code",
   "execution_count": 171,
   "metadata": {},
   "outputs": [
    {
     "data": {
      "text/plain": [
       "<Axes: xlabel='high_blood_pressure', ylabel='diabetes'>"
      ]
     },
     "execution_count": 171,
     "metadata": {},
     "output_type": "execute_result"
    },
    {
     "data": {
      "image/png": "[encoded data removed]",
      "text/plain": [
       "<Figure size 640x480 with 2 Axes>"
      ]
     },
     "metadata": {},
     "output_type": "display_data"
    }
   ],
   "source": [
    "# Plot the features that have the strongest influence on each component. \n",
    "heart_scaled_predictions.plot.scatter(\n",
    "    x=\"high_blood_pressure\",\n",
    "    y=\"diabetes\",\n",
    "    c=\"DEATH_EVENT\",\n",
    "    colormap='winter')"
   ]
  },
  {
   "cell_type": "markdown",
   "metadata": {},
   "source": [
    "### Results"
   ]
  },
  {
   "cell_type": "markdown",
   "metadata": {},
   "source": [
    "**Answer:** "
   ]
  },
  {
   "cell_type": "code",
   "execution_count": null,
   "metadata": {},
   "outputs": [],
   "source": []
  }
 ],
 "metadata": {
  "kernelspec": {
   "display_name": "Python 3 (ipykernel)",
   "language": "python",
   "name": "python3"
  },
  "language_info": {
   "codemirror_mode": {
    "name": "ipython",
    "version": 3
   },
   "file_extension": ".py",
   "mimetype": "text/x-python",
   "name": "python",
   "nbconvert_exporter": "python",
   "pygments_lexer": "ipython3",
   "version": "3.11.7"
  }
 },
 "nbformat": 4,
 "nbformat_minor": 4
}
